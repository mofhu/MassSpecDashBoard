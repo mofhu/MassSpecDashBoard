{
 "cells": [
  {
   "cell_type": "code",
   "execution_count": 1,
   "metadata": {},
   "outputs": [],
   "source": [
    "import math\n",
    "import pandas as pd\n",
    "import seaborn as sns\n",
    "import matplotlib.pyplot as plt\n",
    "from matplotlib_venn import venn3"
   ]
  },
  {
   "cell_type": "code",
   "execution_count": 53,
   "metadata": {},
   "outputs": [],
   "source": [
    "class Search_Result():\n",
    "    def __init__(self, filename='', identifier='', \n",
    "                 search_workflow='ID_PD'):\n",
    "        \"\"\"use resultname.filename, resultname.identifier, etc.\n",
    "        \n",
    "        could extend more using a method for i/o.\n",
    "        also could save in class.\n",
    "        \"\"\"\n",
    "        self.filename = filename  # implies where to read\n",
    "        self.identifier = identifier\n",
    "        self.search_workflow = search_workflow  # ID/Quan_search engine (top-down hierarchy)\n",
    "\n",
    "    def read_result(self):\n",
    "        # output: self.raw_result, self.result\n",
    "        # a dict {protein: protein_result, peptide: peptide_result, PSM: PSM_result}\n",
    "        self.raw_result = {}\n",
    "        if self.search_workflow == 'ID_PD':\n",
    "            suffix = {'PSM': self.filename + '_PSMs.txt',\n",
    "                      'peptide': self.filename + '_PeptideGroups.txt',\n",
    "                      'protein': self.filename + '_Proteins.txt'}\n",
    "            for key in suffix:\n",
    "                self.raw_result[key] = pd.read_csv(suffix[key], sep = '\\t')\n",
    "                self.raw_result[key]['Identifier'] = self.identifier\n",
    "                \n",
    "        # raw result to final result\n",
    "        self.result = {}\n",
    "        if self.search_workflow == 'ID_PD':\n",
    "            # select columns \n",
    "            # protein: no change, only filter columns\n",
    "            protein_cols = ['Identifier', 'Accession', 'Exp. q-value: Combined', 'Coverage [%]']\n",
    "            self.result['protein'] = self.raw_result['protein'][protein_cols]\n",
    "            \n",
    "            # peptide: add a new Mod_sequence column\n",
    "            peptide_cols = ['Identifier', 'Mod_sequence', 'Qvality PEP', \n",
    "                            'Qvality q-value', 'Master Protein Accessions', \n",
    "                            '# Missed Cleavages']\n",
    "            peptide = self.raw_result['peptide']\n",
    "            peptide['Modifications'] = peptide['Modifications'].fillna('')\n",
    "            peptide['Mod_sequence'] = peptide['Sequence'] +'.'+ peptide['Modifications'] \n",
    "            self.result['peptide'] = peptide[peptide_cols]\n",
    "            \n",
    "            # PSM: add a new Mod_sequence column\n",
    "            PSM_cols = ['Identifier', 'Mod_sequence','Spectrum File', 'First Scan',  \n",
    "                        'Precursor Abundance', 'Intensity','Percolator q-Value', 'Percolator PEP',\n",
    "                        'Master Scan(s)', 'Isolation Interference [%]', \n",
    "                        'RT [min]','Master Protein Accessions']\n",
    "            PSM = self.raw_result['PSM']\n",
    "            PSM['Modifications'] = PSM['Modifications'].fillna('')\n",
    "            PSM['Mod_sequence'] = PSM['Sequence'] +'.'+ PSM['Modifications'] \n",
    "            self.result['PSM'] = PSM[PSM_cols]\n",
    "        return self\n",
    "\n",
    "\n",
    "def protein_result_to_db(protein_database, protein_result):\n",
    "    \"\"\"read protein result to database.\n",
    "    input:\n",
    "        - protein_database: pd.dataframe with normalized column name\n",
    "        - protein_result: transformed raw result \n",
    "    output:\n",
    "        - updated protein_database\n",
    "    \"\"\"\n",
    "    # filter related columns\n",
    "    result = protein_result[protein_database.columns]\n",
    "    # append\n",
    "    protein_database = protein_database.append(result)\n",
    "    return protein_database\n",
    "\n",
    "\n",
    "def filter_protein_count(protein_db):\n",
    "    # protein filter\n",
    "    protein_fdr = protein_db[protein_db['Exp. q-value: Combined'] < 0.01]\n",
    "    pivot = pd.pivot_table(protein_fdr, values='Accession',\n",
    "                           index='File', aggfunc='count')\n",
    "    # flatten pivot table to normal df\n",
    "    flatten = pd.DataFrame(pivot.to_records())\n",
    "    return flatten"
   ]
  },
  {
   "cell_type": "code",
   "execution_count": 57,
   "metadata": {
    "scrolled": false
   },
   "outputs": [
    {
     "name": "stdout",
     "output_type": "stream",
     "text": [
      "test/two_files-PD_output/19-149_HM0522_GM-1\n",
      "(8804, 48)\n",
      "(8804, 6)\n",
      "Index(['Checked', 'Protein FDR Confidence: Combined', 'Master',\n",
      "       'Unique Sequence ID', 'Protein Group IDs', 'Accession', 'Description',\n",
      "       'Sequence', 'FASTA Title Lines', 'Exp. q-value: Combined',\n",
      "       'Sum PEP Score', '# Decoy Protein: Combined', 'Coverage [%]',\n",
      "       '# Peptides', '# PSMs', '# Protein Unique Peptides',\n",
      "       '# Unique Peptides', '# AAs', 'MW [kDa]', 'calc. pI',\n",
      "       'Score Sequest HT: Sequest HT',\n",
      "       'Coverage [%] (by Search Engine): Sequest HT',\n",
      "       '# PSMs (by Search Engine): Sequest HT',\n",
      "       '# Peptides (by Search Engine): Sequest HT', '# Razor Peptides',\n",
      "       'Abundances (Scaled): F1: Sample',\n",
      "       'Abundances (Normalized): F1: Sample', 'Abundance: F1: Sample',\n",
      "       'Abundances Count: F1: Sample', 'Found in Sample: [S1] F1: Sample',\n",
      "       'Found in Sample Group: [S1] F1: Sample', '# Protein Groups',\n",
      "       'Modifications', 'Identifier'],\n",
      "      dtype='object')\n"
     ]
    },
    {
     "data": {
      "text/plain": [
       "0                        IsMasterProtein\n",
       "1                                   None\n",
       "2                                   None\n",
       "3                        IsMasterProtein\n",
       "4                        IsMasterProtein\n",
       "5                                   None\n",
       "6                                   None\n",
       "7                                   None\n",
       "8                        IsMasterProtein\n",
       "9                        IsMasterProtein\n",
       "10                                  None\n",
       "11                       IsMasterProtein\n",
       "12                                  None\n",
       "13                                  None\n",
       "14                                  None\n",
       "15                       IsMasterProtein\n",
       "16                                  None\n",
       "17                       IsMasterProtein\n",
       "18                                  None\n",
       "19                                  None\n",
       "20                                  None\n",
       "21                                  None\n",
       "22                       IsMasterProtein\n",
       "23                       IsMasterProtein\n",
       "24                       IsMasterProtein\n",
       "25                                  None\n",
       "26                                  None\n",
       "27                                  None\n",
       "28                       IsMasterProtein\n",
       "29                                  None\n",
       "                      ...               \n",
       "6758                     IsMasterProtein\n",
       "6759                                None\n",
       "6760                                None\n",
       "6761                                None\n",
       "6762                                None\n",
       "6763            IsMasterProteinCandidate\n",
       "6764                                None\n",
       "6765            IsMasterProteinCandidate\n",
       "6766            IsMasterProteinCandidate\n",
       "6767                     IsMasterProtein\n",
       "6768            IsMasterProteinCandidate\n",
       "6769                                None\n",
       "6770            IsMasterProteinCandidate\n",
       "6771                                None\n",
       "6772            IsMasterProteinCandidate\n",
       "6773                                None\n",
       "6774            IsMasterProteinCandidate\n",
       "6775            IsMasterProteinCandidate\n",
       "6776                                None\n",
       "6777                                None\n",
       "6778                                None\n",
       "6779                                None\n",
       "6780                                None\n",
       "6781                                None\n",
       "6782                                None\n",
       "6783            IsMasterProteinCandidate\n",
       "6784            IsMasterProteinCandidate\n",
       "6785                                None\n",
       "6786                     IsMasterProtein\n",
       "6787    IsMasterProteinCandidateRejected\n",
       "Name: Master, Length: 6788, dtype: object"
      ]
     },
     "execution_count": 57,
     "metadata": {},
     "output_type": "execute_result"
    }
   ],
   "source": [
    "df1 = Search_Result(filename='test/two_files-PD_output/19-149_HM0522_GM-1', identifier='overnight', \n",
    "                    search_workflow='ID_PD')\n",
    "print(df1.filename)\n",
    "df1 = df1.read_result()\n",
    "print(df1.raw_result['peptide'].shape)\n",
    "print(df1.result['peptide'].shape)\n",
    "df1.result['peptide']\n",
    "\n",
    "print(df1.raw_result['protein'].columns)\n",
    "\n",
    "df1.raw_result['protein']['Master']"
   ]
  },
  {
   "cell_type": "code",
   "execution_count": 4,
   "metadata": {},
   "outputs": [],
   "source": [
    "# test of `read_PD_result`\n",
    "df1 = read_PD_result(\n",
    "    'test/two_files-PD_output/19-149_HM0522_GM-1', \n",
    "    filename='overnight'\n",
    ")\n",
    "df2 = read_PD_result(\n",
    "    'test/two_files-PD_output/19-149_HM0522_GM-2',\n",
    "    filename='2x digestion'\n",
    ")"
   ]
  },
  {
   "cell_type": "code",
   "execution_count": 6,
   "metadata": {},
   "outputs": [
    {
     "name": "stdout",
     "output_type": "stream",
     "text": [
      "(6788, 4)\n",
      "(13332, 4)\n",
      "    Accession  Exp. q-value: Combined Coverage [%]       File\n",
      "0      E9PQH6                     0.0           67  overnight\n",
      "1      E5RIC7                     0.0            5  overnight\n",
      "2      H7C2Y5                     0.0            7  overnight\n",
      "3      O95881                     0.0            8  overnight\n",
      "4      E9PD92                     0.0           20  overnight\n",
      "5  A0A2R8Y706                     0.0            5  overnight\n",
      "6      M0R1V7                     0.0           70  overnight\n",
      "7      Q5TA01                     0.0            9  overnight\n",
      "8      Q13423                     0.0            3  overnight\n",
      "9      P06734                     0.0           21  overnight\n",
      "       Accession  Exp. q-value: Combined Coverage [%]          File\n",
      "6534      P30613                   0.000            3  2x digestion\n",
      "6535  A0A087WY10                   0.000           56  2x digestion\n",
      "6536      X6R2P6                   0.000           24  2x digestion\n",
      "6537      B7Z8J4                   0.001            9  2x digestion\n",
      "6538      Q96A23                   0.000            2  2x digestion\n",
      "6539      F5GZ39                   0.000           57  2x digestion\n",
      "6540      H3BUJ5                   0.001            4  2x digestion\n",
      "6541      H0YH81                   0.000           77  2x digestion\n",
      "6542      Q07812                   0.000           13  2x digestion\n",
      "6543      P30508                   0.000           31  2x digestion\n"
     ]
    }
   ],
   "source": [
    "# test of `protein_result_to_db`\n",
    "protein_db = pd.DataFrame(columns=[\"Accession\", \"Exp. q-value: Combined\", \"Coverage [%]\", \"File\"])\n",
    "# protein_db = read_protein(protein_db, df1['protein'])\n",
    "\n",
    "protein_db = protein_result_to_db(protein_db, df1['protein'])\n",
    "print(protein_db.shape)\n",
    "protein_db = protein_result_to_db(protein_db, df2['protein'])\n",
    "print(protein_db.shape)\n",
    "print(protein_db[:10])\n",
    "print(protein_db[-10:])\n",
    "# print(protein_db)"
   ]
  },
  {
   "cell_type": "code",
   "execution_count": 7,
   "metadata": {},
   "outputs": [
    {
     "data": {
      "text/plain": [
       "<matplotlib.axes._subplots.AxesSubplot at 0x124102080>"
      ]
     },
     "execution_count": 7,
     "metadata": {},
     "output_type": "execute_result"
    },
    {
     "data": {
      "image/png": "[encoded data removed]",
      "text/plain": [
       "<Figure size 432x288 with 1 Axes>"
      ]
     },
     "metadata": {},
     "output_type": "display_data"
    }
   ],
   "source": [
    "# init protein bar plot\n",
    "# protein read from meta table\n",
    "# a demo picture: filter by all and protein q.value < 0.01\n",
    "\n",
    "result = filter_protein_count(protein_db)\n",
    "# print(type(result))\n",
    "# print(result['Accession'])\n",
    "# result['File']\n",
    "# type(result)\n",
    "sns.set(style=\"whitegrid\")\n",
    "sns.barplot(x='File', y='Accession', data=result)"
   ]
  }
 ],
 "metadata": {
  "kernelspec": {
   "display_name": "Python 3",
   "language": "python",
   "name": "python3"
  },
  "language_info": {
   "codemirror_mode": {
    "name": "ipython",
    "version": 3
   },
   "file_extension": ".py",
   "mimetype": "text/x-python",
   "name": "python",
   "nbconvert_exporter": "python",
   "pygments_lexer": "ipython3",
   "version": "3.7.3"
  }
 },
 "nbformat": 4,
 "nbformat_minor": 1
}
