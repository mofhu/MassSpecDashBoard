{
 "cells": [
  {
   "cell_type": "code",
   "execution_count": 1,
   "metadata": {},
   "outputs": [],
   "source": [
    "import math\n",
    "import pandas as pd\n",
    "import seaborn as sns\n",
    "import matplotlib.pyplot as plt\n",
    "from matplotlib_venn import venn3\n",
    "import math"
   ]
  },
  {
   "cell_type": "code",
   "execution_count": 28,
   "metadata": {},
   "outputs": [],
   "source": [
    "def read_PD_result(rawfile):\n",
    "    # output: dict {protein: protein_result, peptide: peptide_result, PSM: PSM_result}\n",
    "    suffix = {'PSM': rawfile + '_PSMs.txt',\n",
    "              'peptide': rawfile + '_PeptideGroups.txt',\n",
    "              'protein': rawfile + '_Proteins.txt'}\n",
    "    df_PD = {}\n",
    "    for key in suffix:\n",
    "        df_PD[key] = pd.read_csv(suffix[key], sep = '\\t')\n",
    "        df_PD[key]['File'] = rawfile.split(sep='/')[-1]\n",
    "        \n",
    "    return df_PD"
   ]
  },
  {
   "cell_type": "code",
   "execution_count": 32,
   "metadata": {},
   "outputs": [],
   "source": [
    "# test of `read_PD_result`\n",
    "df1 = read_PD_result('test/two_files-PD_output/19-149_HM0522_GM-1')\n",
    "df2 = read_PD_result('test/two_files-PD_output/19-149_HM0522_GM-2')"
   ]
  },
  {
   "cell_type": "code",
   "execution_count": 18,
   "metadata": {},
   "outputs": [],
   "source": [
    "def protein_result_to_db(protein_database, protein_result):\n",
    "    \"\"\"read protein result to database.\n",
    "    input:\n",
    "        - protein_database: pd.dataframe with normalized column name\n",
    "        - protein_result: transformed raw result \n",
    "    output:\n",
    "        - updated protein_database\n",
    "    \"\"\"\n",
    "    # filter related columns\n",
    "    result = protein_result[protein_database.columns]\n",
    "    # append\n",
    "    protein_database = protein_database.append(result)\n",
    "    return protein_database\n",
    "\n"
   ]
  },
  {
   "cell_type": "code",
   "execution_count": 104,
   "metadata": {},
   "outputs": [
    {
     "name": "stdout",
     "output_type": "stream",
     "text": [
      "(13576, 4)\n",
      "(20120, 4)\n",
      "    Accession  Exp. q-value: Combined Coverage [%]                File\n",
      "0      E9PQH6                     0.0           67  19-149_HM0522_GM-1\n",
      "1      E5RIC7                     0.0            5  19-149_HM0522_GM-1\n",
      "2      H7C2Y5                     0.0            7  19-149_HM0522_GM-1\n",
      "3      O95881                     0.0            8  19-149_HM0522_GM-1\n",
      "4      E9PD92                     0.0           20  19-149_HM0522_GM-1\n",
      "5  A0A2R8Y706                     0.0            5  19-149_HM0522_GM-1\n",
      "6      M0R1V7                     0.0           70  19-149_HM0522_GM-1\n",
      "7      Q5TA01                     0.0            9  19-149_HM0522_GM-1\n",
      "8      Q13423                     0.0            3  19-149_HM0522_GM-1\n",
      "9      P06734                     0.0           21  19-149_HM0522_GM-1\n",
      "       Accession  Exp. q-value: Combined Coverage [%]                File\n",
      "6534      P30613                   0.000            3  19-149_HM0522_GM-2\n",
      "6535  A0A087WY10                   0.000           56  19-149_HM0522_GM-2\n",
      "6536      X6R2P6                   0.000           24  19-149_HM0522_GM-2\n",
      "6537      B7Z8J4                   0.001            9  19-149_HM0522_GM-2\n",
      "6538      Q96A23                   0.000            2  19-149_HM0522_GM-2\n",
      "6539      F5GZ39                   0.000           57  19-149_HM0522_GM-2\n",
      "6540      H3BUJ5                   0.001            4  19-149_HM0522_GM-2\n",
      "6541      H0YH81                   0.000           77  19-149_HM0522_GM-2\n",
      "6542      Q07812                   0.000           13  19-149_HM0522_GM-2\n",
      "6543      P30508                   0.000           31  19-149_HM0522_GM-2\n"
     ]
    }
   ],
   "source": [
    "# test of `protein_result_to_db`\n",
    "protein_db = pd.DataFrame(columns=[\"Accession\", \"Exp. q-value: Combined\", \"Coverage [%]\", \"File\"])\n",
    "# protein_db = read_protein(protein_db, df1['protein'])\n",
    "\n",
    "protein_db = read_protein(protein_db, df1['protein'])\n",
    "protein_db = read_protein(protein_db, df1['protein'])\n",
    "print(protein_db.shape)\n",
    "protein_db = read_protein(protein_db, df2['protein'])\n",
    "print(protein_db.shape)\n",
    "print(protein_db[:10])\n",
    "print(protein_db[-10:])\n",
    "# print(protein_db)"
   ]
  },
  {
   "cell_type": "code",
   "execution_count": 102,
   "metadata": {},
   "outputs": [],
   "source": [
    "# init protein bar plot\n",
    "# protein read from meta table\n",
    "# a demo picture: filter by all and protein q.value < 0.01\n",
    "\n",
    "rawfiles = ['test/two_files-PD_output/19-149_HM0522_GM-1',\n",
    "            'test/two_files-PD_output/19-149_HM0522_GM-2']\n",
    "\n",
    "meta_db = {'file': [file.split(sep='/')[-1] for file in rawfiles]}\n",
    "\n",
    "def filter_protein_count(protein_db):\n",
    "    # protein filter\n",
    "    protein_fdr = protein_db[protein_db['Exp. q-value: Combined'] < 0.01]\n",
    "    pivot = pd.pivot_table(protein_fdr, values='Accession',\n",
    "                           index='File', aggfunc='count')\n",
    "    # flatten pivot table to normal df\n",
    "    flatten = pd.DataFrame(pivot.to_records())\n",
    "    return flatten\n",
    "    "
   ]
  },
  {
   "cell_type": "code",
   "execution_count": 105,
   "metadata": {},
   "outputs": [
    {
     "data": {
      "text/plain": [
       "<matplotlib.axes._subplots.AxesSubplot at 0x1266506a0>"
      ]
     },
     "execution_count": 105,
     "metadata": {},
     "output_type": "execute_result"
    },
    {
     "data": {
      "image/png": "[encoded data removed]",
      "text/plain": [
       "<Figure size 432x288 with 1 Axes>"
      ]
     },
     "metadata": {},
     "output_type": "display_data"
    }
   ],
   "source": [
    "result = filter_protein_count(protein_db)\n",
    "# print(type(result))\n",
    "# print(result['Accession'])\n",
    "# result['File']\n",
    "# type(result)\n",
    "sns.set(style=\"whitegrid\")\n",
    "sns.barplot(x='File', y='Accession', data=result)"
   ]
  },
  {
   "cell_type": "code",
   "execution_count": 6,
   "metadata": {},
   "outputs": [
    {
     "name": "stdout",
     "output_type": "stream",
     "text": [
      "Index(['Checked', 'Confidence', 'PSM Ambiguity', 'Sequence',\n",
      "       'Annotated Sequence', 'Modifications',\n",
      "       'Modifications (all possible sites)', 'Qvality PEP', 'Qvality q-value',\n",
      "       'SVM_Score', '# Protein Groups', '# Proteins', '# PSMs',\n",
      "       'Master Protein Accessions', 'Positions in Master Proteins',\n",
      "       'Modifications in Master Proteins (all Sites)',\n",
      "       'Modifications in Master Proteins', 'Master Protein Descriptions',\n",
      "       'Protein Accessions', '# Missed Cleavages', 'Theo. MH+ [Da]',\n",
      "       'Sequence Length', '# Razor Quan Results',\n",
      "       'Abundances (Scaled): F2: Sample',\n",
      "       'Abundances (Normalized): F2: Sample', 'Abundance: F2: Sample',\n",
      "       'Abundances Count: F2: Sample', 'Quan Info',\n",
      "       'Found in Sample: [S2] F2: Sample',\n",
      "       'Found in Sample Group: [S2] F2: Sample',\n",
      "       'Confidence (by Search Engine): Sequest HT',\n",
      "       'Charge (by Search Engine): Sequest HT',\n",
      "       'DeltaScore (by Search Engine): Sequest HT',\n",
      "       'DeltaCn (by Search Engine): Sequest HT',\n",
      "       'Rank (by Search Engine): Sequest HT',\n",
      "       'Search Engine Rank (by Search Engine): Sequest HT',\n",
      "       'Concatenated Rank (by Search Engine): Sequest HT',\n",
      "       'm/z [Da] (by Search Engine): Sequest HT',\n",
      "       'DeltaM [ppm] (by Search Engine): Sequest HT',\n",
      "       'Deltam/z [Da] (by Search Engine): Sequest HT',\n",
      "       'RT [min] (by Search Engine): Sequest HT',\n",
      "       'Percolator q-Value (by Search Engine): Sequest HT',\n",
      "       'Percolator PEP (by Search Engine): Sequest HT',\n",
      "       'Percolator SVMScore (by Search Engine): Sequest HT',\n",
      "       'XCorr (by Search Engine): Sequest HT', 'Top Apex RT [min]'],\n",
      "      dtype='object')\n"
     ]
    },
    {
     "name": "stderr",
     "output_type": "stream",
     "text": [
      "/Users/mofrankhu/.pyenv/versions/3.7.3/lib/python3.7/site-packages/ipykernel_launcher.py:28: FutureWarning: Sorting because non-concatenation axis is not aligned. A future version\n",
      "of pandas will change to not sort by default.\n",
      "\n",
      "To accept the future behavior, pass 'sort=False'.\n",
      "\n",
      "To retain the current behavior and silence the warning, pass 'sort=True'.\n",
      "\n"
     ]
    }
   ],
   "source": [
    "# init db\n",
    "\"\"\"\n",
    "rawfiles = ['test/two_files-PD_output/19-149_HM0522_GM-1',\n",
    "            'test/two_files-PD_output/19-149_HM0522_GM-2']\n",
    "\n",
    "def read_PD_result(rawfile):\n",
    "    suffix = {'PSM': rawfile + '_PSMs.txt',\n",
    "              'peptide': rawfile + '_PeptideGroups.txt',\n",
    "              'protein': rawfile + '_Proteins.txt'}\n",
    "    df_PD = {}\n",
    "    for key in suffix:\n",
    "        df_PD[key] = pd.read_csv(suffix[key], sep = '\\t')\n",
    "        \n",
    "    return df_PD['protein'], df_PD['peptide'], df_PD['PSM']\n",
    "\n",
    "# could contencate together to a large table\n",
    "protein_db = []\n",
    "peptide_db = []\n",
    "PSM_db = []\n",
    "\n",
    "# a better name convention\n",
    "for file in rawfiles:\n",
    "    protein, peptide, PSM = read_PD_result(file)\n",
    "    protein_db.append(protein)\n",
    "    peptide_db.append(peptide)\n",
    "    PSM_db.append(PSM)\n",
    "\n",
    "# print(len(protein_db))\n",
    "protein_db = pd.concat(protein_db, keys = rawfiles)\n",
    "# print(protein_db.describe())\n",
    "# print(protein_db[:5])\n",
    "print(peptide.columns)\n",
    "\n",
    "# \n",
    "import numpy as np\n",
    "# PSM['Percolator PEP'].apply(lambda x: np.log10(x)).plot.hist()\n",
    "# PSM0['Percolator PEP'].apply(lambda x: np.log10(x)).plot.hist()\n",
    "\"\"\""
   ]
  },
  {
   "cell_type": "code",
   "execution_count": 38,
   "metadata": {},
   "outputs": [
    {
     "name": "stdout",
     "output_type": "stream",
     "text": [
      "len PSM 14658\n",
      "len PEP < 0.01: 14658\n",
      "len PEP < 0.01: 12582\n"
     ]
    }
   ],
   "source": [
    "# filter PD PSM q-Value and PEP\n",
    "# unify in later version (import and transform before put into db and output)\n",
    "print('len PSM {}'.format(len(PSM)))\n",
    "print('len PEP < 0.01: {}'.format(\n",
    "    len(PSM[PSM['Percolator q-Value'] < 0.01])))\n",
    "print('len PEP < 0.01: {}'.format(\n",
    "    len(PSM[PSM['Percolator PEP'] < 0.01])))"
   ]
  },
  {
   "cell_type": "code",
   "execution_count": 45,
   "metadata": {},
   "outputs": [
    {
     "name": "stdout",
     "output_type": "stream",
     "text": [
      "len PSM 14658\n",
      "len PEP < 0.01: 14658\n",
      "len PEP < 0.01: 12582\n",
      "len PSM0 14759\n",
      "PSM0 len PEP < 0.01: 14759\n",
      "PSM0 len PEP < 0.01: 12676\n"
     ]
    }
   ],
   "source": [
    "# filter PD PSM q-Value and PEP\n",
    "# unify in later version \n",
    "# (import and transform before put into db and output)\n",
    "print('len PSM {}'.format(len(PSM)))\n",
    "print('len PEP < 0.01: {}'.format(\n",
    "    len(PSM[PSM['Percolator q-Value'] < 0.01])))\n",
    "print('len PEP < 0.01: {}'.format(\n",
    "    len(PSM[PSM['Percolator PEP'] < 0.01])))\n",
    "print('len PSM0 {}'.format(len(PSM0)))\n",
    "print('PSM0 len PEP < 0.01: {}'.format(\n",
    "    len(PSM0[PSM0['Percolator q-Value'] < 0.01])))\n",
    "print('PSM0 len PEP < 0.01: {}'.format(\n",
    "    len(PSM0[PSM0['Percolator PEP'] < 0.01])))\n",
    "\n",
    "\n",
    "# draw QC barplot of PSM here\n",
    "\n"
   ]
  },
  {
   "cell_type": "code",
   "execution_count": 25,
   "metadata": {},
   "outputs": [
    {
     "data": {
      "text/plain": [
       "Index(['Checked', 'Confidence', 'Identifying Node Type', 'Identifying Node',\n",
       "       'Search ID', 'Identifying Node No', 'PSM Ambiguity', 'Sequence',\n",
       "       'Annotated Sequence', 'Modifications', '# Proteins',\n",
       "       'Master Protein Accessions', 'Master Protein Descriptions',\n",
       "       'Protein Accessions', 'Protein Descriptions', '# Missed Cleavages',\n",
       "       'Charge', 'Original Precursor Charge', 'DeltaScore', 'DeltaCn', 'Rank',\n",
       "       'Search Engine Rank', 'Concatenated Rank', 'm/z [Da]', 'MH+ [Da]',\n",
       "       'Theo. MH+ [Da]', 'DeltaM [ppm]', 'Deltam/z [Da]', 'Ions Matched',\n",
       "       'Matched Ions', 'Total Ions', 'Intensity', 'Activation Type',\n",
       "       'MS Order', 'Isolation Interference [%]', 'Ion Inject Time [ms]',\n",
       "       'RT [min]', 'First Scan', 'Last Scan', 'Master Scan(s)',\n",
       "       'Spectrum File', 'File ID', 'Quan Info', 'Peptides Matched', 'XCorr',\n",
       "       '# Protein Groups', 'Percolator q-Value', 'Percolator PEP',\n",
       "       'Percolator SVMScore', 'Precursor Abundance', 'Apex RT [min]'],\n",
       "      dtype='object')"
      ]
     },
     "execution_count": 25,
     "metadata": {},
     "output_type": "execute_result"
    }
   ],
   "source": [
    "PSM.columns"
   ]
  },
  {
   "cell_type": "code",
   "execution_count": 36,
   "metadata": {},
   "outputs": [],
   "source": [
    "# filter peptide group\n",
    "# have to fillna before contencate.\n",
    "# for precise peptide group venn\n",
    "peptide['Modifications'] = peptide['Modifications'].fillna('')\n",
    "peptide['mod_sequence'] = peptide['Sequence'] +'.'+ peptide['Modifications'] "
   ]
  },
  {
   "cell_type": "code",
   "execution_count": 37,
   "metadata": {},
   "outputs": [
    {
     "data": {
      "text/plain": [
       "0                                        AAAAAAALQAK.\n",
       "1                                     AAAEVNQDYGLDPK.\n",
       "2                                          AAAFEQLQK.\n",
       "3                                       AAALEAMKDYTK.\n",
       "4                                    AAALEFLNRFEEAKR.\n",
       "5                                         AAAMANNLQK.\n",
       "6                                    AAAPDVAPAPGPAPR.\n",
       "7                 AAAQCYIDLIIK.1xCarbamidomethyl [C5]\n",
       "8                                      AAATPESQEPQAK.\n",
       "9                   AACLPLPGYR.1xCarbamidomethyl [C3]\n",
       "10      AADCEVEQWDSDEPIPAKELER.1xCarbamidomethyl [C4]\n",
       "11                                       AADIDQEVKER.\n",
       "12                      AAEAAAAPAESAAPAAGEEPSKEEGEPK.\n",
       "13                AAECNIVVTQPR.1xCarbamidomethyl [C4]\n",
       "14    AAEGGLSSPEFSELCIWLGSQIK.1xCarbamidomethyl [C15]\n",
       "15                              AAELIANSLATAGDGLIELR.\n",
       "16                               AAFDDAIAELDTLSEESYK.\n",
       "17          AAFGLSEAGFNTACVTK.1xCarbamidomethyl [C14]\n",
       "18               AAFNSGKVDIVAINDPFIDLNYMVYMFQYDSTHGK.\n",
       "19                                     AAFTAFEEAQLPR.\n",
       "Name: mod_sequence, dtype: object"
      ]
     },
     "execution_count": 37,
     "metadata": {},
     "output_type": "execute_result"
    }
   ],
   "source": [
    "peptide['mod_sequence'][:20]"
   ]
  },
  {
   "cell_type": "code",
   "execution_count": 5,
   "metadata": {},
   "outputs": [],
   "source": [
    "df = pd.read_csv('test/two_files-PD_output/'\n",
    "                 '19-149_HM0522_GM-1_PeptideGroups.txt', sep='\\t')"
   ]
  },
  {
   "cell_type": "code",
   "execution_count": 10,
   "metadata": {},
   "outputs": [
    {
     "data": {
      "text/plain": [
       "14658"
      ]
     },
     "execution_count": 10,
     "metadata": {},
     "output_type": "execute_result"
    }
   ],
   "source": [
    "sum(df['# PSMs'])"
   ]
  },
  {
   "cell_type": "code",
   "execution_count": 7,
   "metadata": {},
   "outputs": [
    {
     "data": {
      "text/plain": [
       "Index(['Checked', 'Confidence', 'PSM Ambiguity', 'Sequence',\n",
       "       'Annotated Sequence', 'Modifications',\n",
       "       'Modifications (all possible sites)', 'Qvality PEP', 'Qvality q-value',\n",
       "       'SVM_Score', '# Protein Groups', '# Proteins', '# PSMs',\n",
       "       'Master Protein Accessions', 'Positions in Master Proteins',\n",
       "       'Modifications in Master Proteins (all Sites)',\n",
       "       'Modifications in Master Proteins', 'Master Protein Descriptions',\n",
       "       'Protein Accessions', '# Missed Cleavages', 'Theo. MH+ [Da]',\n",
       "       'Sequence Length', '# Razor Quan Results',\n",
       "       'Abundances (Scaled): F1: Sample',\n",
       "       'Abundances (Normalized): F1: Sample', 'Abundance: F1: Sample',\n",
       "       'Abundances Count: F1: Sample', 'Quan Info',\n",
       "       'Found in Sample: [S1] F1: Sample',\n",
       "       'Found in Sample Group: [S1] F1: Sample',\n",
       "       'Confidence (by Search Engine): Sequest HT',\n",
       "       'Charge (by Search Engine): Sequest HT',\n",
       "       'DeltaScore (by Search Engine): Sequest HT',\n",
       "       'DeltaCn (by Search Engine): Sequest HT',\n",
       "       'Rank (by Search Engine): Sequest HT',\n",
       "       'Search Engine Rank (by Search Engine): Sequest HT',\n",
       "       'Concatenated Rank (by Search Engine): Sequest HT',\n",
       "       'm/z [Da] (by Search Engine): Sequest HT',\n",
       "       'DeltaM [ppm] (by Search Engine): Sequest HT',\n",
       "       'Deltam/z [Da] (by Search Engine): Sequest HT',\n",
       "       'RT [min] (by Search Engine): Sequest HT',\n",
       "       'Percolator q-Value (by Search Engine): Sequest HT',\n",
       "       'Percolator PEP (by Search Engine): Sequest HT',\n",
       "       'Percolator SVMScore (by Search Engine): Sequest HT',\n",
       "       'XCorr (by Search Engine): Sequest HT', 'Top Apex RT [min]'],\n",
       "      dtype='object')"
      ]
     },
     "execution_count": 7,
     "metadata": {},
     "output_type": "execute_result"
    }
   ],
   "source": [
    "df.columns"
   ]
  },
  {
   "cell_type": "code",
   "execution_count": 19,
   "metadata": {},
   "outputs": [],
   "source": [
    "df = pd.read_csv('test/LFQ_Spectronaut_12.0.20491.19.18826/Report_Protein Quant (Normal).xls', sep='\\t')\n",
    "# Spectronaut: peptide quan and protein quan table is selected\n",
    "# pending decision from BGS report, or peptide and protein quan\n",
    "# a MVP decision would be peptide and protein quan, as code is much simpler."
   ]
  },
  {
   "cell_type": "code",
   "execution_count": 20,
   "metadata": {},
   "outputs": [
    {
     "data": {
      "text/html": [
       "<div>\n",
       "<style scoped>\n",
       "    .dataframe tbody tr th:only-of-type {\n",
       "        vertical-align: middle;\n",
       "    }\n",
       "\n",
       "    .dataframe tbody tr th {\n",
       "        vertical-align: top;\n",
       "    }\n",
       "\n",
       "    .dataframe thead th {\n",
       "        text-align: right;\n",
       "    }\n",
       "</style>\n",
       "<table border=\"1\" class=\"dataframe\">\n",
       "  <thead>\n",
       "    <tr style=\"text-align: right;\">\n",
       "      <th></th>\n",
       "      <th>Samplename</th>\n",
       "      <th>ProteinAccession</th>\n",
       "      <th>ProteinQuan</th>\n",
       "    </tr>\n",
       "  </thead>\n",
       "  <tbody>\n",
       "    <tr>\n",
       "      <th>0</th>\n",
       "      <td>TJ-1-DIA_1</td>\n",
       "      <td>A5A613</td>\n",
       "      <td>7.130495e+04</td>\n",
       "    </tr>\n",
       "    <tr>\n",
       "      <th>1</th>\n",
       "      <td>TJ-1-DIA_1</td>\n",
       "      <td>A5A614</td>\n",
       "      <td>4.016720e+04</td>\n",
       "    </tr>\n",
       "    <tr>\n",
       "      <th>2</th>\n",
       "      <td>TJ-1-DIA_1</td>\n",
       "      <td>O32583</td>\n",
       "      <td>5.106850e+03</td>\n",
       "    </tr>\n",
       "    <tr>\n",
       "      <th>3</th>\n",
       "      <td>TJ-1-DIA_1</td>\n",
       "      <td>P00350</td>\n",
       "      <td>4.918652e+06</td>\n",
       "    </tr>\n",
       "    <tr>\n",
       "      <th>4</th>\n",
       "      <td>TJ-1-DIA_1</td>\n",
       "      <td>P00363</td>\n",
       "      <td>3.755746e+04</td>\n",
       "    </tr>\n",
       "    <tr>\n",
       "      <th>5</th>\n",
       "      <td>TJ-1-DIA_1</td>\n",
       "      <td>P00370</td>\n",
       "      <td>7.790481e+05</td>\n",
       "    </tr>\n",
       "    <tr>\n",
       "      <th>6</th>\n",
       "      <td>TJ-1-DIA_1</td>\n",
       "      <td>P00393</td>\n",
       "      <td>1.904188e+05</td>\n",
       "    </tr>\n",
       "    <tr>\n",
       "      <th>7</th>\n",
       "      <td>TJ-1-DIA_1</td>\n",
       "      <td>P00448</td>\n",
       "      <td>9.280251e+05</td>\n",
       "    </tr>\n",
       "    <tr>\n",
       "      <th>8</th>\n",
       "      <td>TJ-1-DIA_1</td>\n",
       "      <td>P00452</td>\n",
       "      <td>2.926262e+05</td>\n",
       "    </tr>\n",
       "    <tr>\n",
       "      <th>9</th>\n",
       "      <td>TJ-1-DIA_1</td>\n",
       "      <td>P00490</td>\n",
       "      <td>1.366855e+05</td>\n",
       "    </tr>\n",
       "  </tbody>\n",
       "</table>\n",
       "</div>"
      ],
      "text/plain": [
       "   Samplename ProteinAccession   ProteinQuan\n",
       "0  TJ-1-DIA_1           A5A613  7.130495e+04\n",
       "1  TJ-1-DIA_1           A5A614  4.016720e+04\n",
       "2  TJ-1-DIA_1           O32583  5.106850e+03\n",
       "3  TJ-1-DIA_1           P00350  4.918652e+06\n",
       "4  TJ-1-DIA_1           P00363  3.755746e+04\n",
       "5  TJ-1-DIA_1           P00370  7.790481e+05\n",
       "6  TJ-1-DIA_1           P00393  1.904188e+05\n",
       "7  TJ-1-DIA_1           P00448  9.280251e+05\n",
       "8  TJ-1-DIA_1           P00452  2.926262e+05\n",
       "9  TJ-1-DIA_1           P00490  1.366855e+05"
      ]
     },
     "execution_count": 20,
     "metadata": {},
     "output_type": "execute_result"
    }
   ],
   "source": [
    "df1 = df[:10][['R.FileName', 'PG.ProteinAccessions', 'PG.Quantity']]\n",
    "df1.rename(index=str, columns={\n",
    "    'R.FileName':'Samplename',\n",
    "    'PG.ProteinAccessions':'ProteinAccession',\n",
    "    'PG.Quantity':'ProteinQuan'})"
   ]
  },
  {
   "cell_type": "code",
   "execution_count": 21,
   "metadata": {},
   "outputs": [],
   "source": [
    "# rename function for spectronaut input\n",
    "df1 = df[['R.FileName', 'PG.ProteinAccessions', 'PG.Quantity']]\n",
    "df1 = df1.rename(index=str, columns={\n",
    "    'R.FileName':'Samplename',\n",
    "    'PG.ProteinAccessions':'ProteinAccession',\n",
    "    'PG.Quantity':'ProteinQuan'})\n",
    "df_pivot = df1.pivot(index='ProteinAccession',columns='Samplename', values='ProteinQuan')\n",
    "\n",
    "\n",
    "# df_pivot.describe()\n",
    "# df_pivot.index"
   ]
  },
  {
   "cell_type": "code",
   "execution_count": 31,
   "metadata": {},
   "outputs": [
    {
     "data": {
      "text/html": [
       "<div>\n",
       "<style scoped>\n",
       "    .dataframe tbody tr th:only-of-type {\n",
       "        vertical-align: middle;\n",
       "    }\n",
       "\n",
       "    .dataframe tbody tr th {\n",
       "        vertical-align: top;\n",
       "    }\n",
       "\n",
       "    .dataframe thead th {\n",
       "        text-align: right;\n",
       "    }\n",
       "</style>\n",
       "<table border=\"1\" class=\"dataframe\">\n",
       "  <thead>\n",
       "    <tr style=\"text-align: right;\">\n",
       "      <th>Samplename</th>\n",
       "      <th>TJ-1-DIA_1</th>\n",
       "      <th>TJ-1-DIA_2</th>\n",
       "      <th>TJ-1-DIA_3</th>\n",
       "      <th>TJ-2-DIA_1</th>\n",
       "      <th>TJ-2-DIA_2</th>\n",
       "      <th>TJ-2-DIA_3</th>\n",
       "    </tr>\n",
       "    <tr>\n",
       "      <th>ProteinAccession</th>\n",
       "      <th></th>\n",
       "      <th></th>\n",
       "      <th></th>\n",
       "      <th></th>\n",
       "      <th></th>\n",
       "      <th></th>\n",
       "    </tr>\n",
       "  </thead>\n",
       "  <tbody>\n",
       "    <tr>\n",
       "      <th>A5A613</th>\n",
       "      <td>4.853120</td>\n",
       "      <td>4.865022</td>\n",
       "      <td>4.841989</td>\n",
       "      <td>4.833110</td>\n",
       "      <td>4.825059</td>\n",
       "      <td>4.825077</td>\n",
       "    </tr>\n",
       "    <tr>\n",
       "      <th>A5A614</th>\n",
       "      <td>4.603872</td>\n",
       "      <td>4.804208</td>\n",
       "      <td>4.595834</td>\n",
       "      <td>4.592614</td>\n",
       "      <td>4.584191</td>\n",
       "      <td>4.553938</td>\n",
       "    </tr>\n",
       "    <tr>\n",
       "      <th>P00350</th>\n",
       "      <td>6.691846</td>\n",
       "      <td>6.690687</td>\n",
       "      <td>6.691578</td>\n",
       "      <td>6.648896</td>\n",
       "      <td>6.672619</td>\n",
       "      <td>6.665172</td>\n",
       "    </tr>\n",
       "    <tr>\n",
       "      <th>P00363</th>\n",
       "      <td>4.574696</td>\n",
       "      <td>4.555029</td>\n",
       "      <td>4.569228</td>\n",
       "      <td>4.567630</td>\n",
       "      <td>4.491281</td>\n",
       "      <td>4.538206</td>\n",
       "    </tr>\n",
       "    <tr>\n",
       "      <th>P00370</th>\n",
       "      <td>5.891564</td>\n",
       "      <td>5.867127</td>\n",
       "      <td>5.891883</td>\n",
       "      <td>6.056016</td>\n",
       "      <td>6.055144</td>\n",
       "      <td>6.048590</td>\n",
       "    </tr>\n",
       "    <tr>\n",
       "      <th>P00393</th>\n",
       "      <td>5.279710</td>\n",
       "      <td>5.262819</td>\n",
       "      <td>5.274922</td>\n",
       "      <td>5.361854</td>\n",
       "      <td>5.373349</td>\n",
       "      <td>5.387637</td>\n",
       "    </tr>\n",
       "    <tr>\n",
       "      <th>P00448</th>\n",
       "      <td>5.967560</td>\n",
       "      <td>5.982492</td>\n",
       "      <td>5.954370</td>\n",
       "      <td>6.021247</td>\n",
       "      <td>6.037274</td>\n",
       "      <td>6.069453</td>\n",
       "    </tr>\n",
       "    <tr>\n",
       "      <th>P00452</th>\n",
       "      <td>5.466313</td>\n",
       "      <td>5.484284</td>\n",
       "      <td>5.448338</td>\n",
       "      <td>5.412070</td>\n",
       "      <td>5.425361</td>\n",
       "      <td>5.430646</td>\n",
       "    </tr>\n",
       "    <tr>\n",
       "      <th>P00490</th>\n",
       "      <td>5.135722</td>\n",
       "      <td>5.123495</td>\n",
       "      <td>5.112375</td>\n",
       "      <td>5.034995</td>\n",
       "      <td>5.055581</td>\n",
       "      <td>5.052507</td>\n",
       "    </tr>\n",
       "    <tr>\n",
       "      <th>P00509</th>\n",
       "      <td>6.352100</td>\n",
       "      <td>6.323549</td>\n",
       "      <td>6.329994</td>\n",
       "      <td>6.307616</td>\n",
       "      <td>6.331544</td>\n",
       "      <td>6.314475</td>\n",
       "    </tr>\n",
       "  </tbody>\n",
       "</table>\n",
       "</div>"
      ],
      "text/plain": [
       "Samplename        TJ-1-DIA_1  TJ-1-DIA_2  TJ-1-DIA_3  TJ-2-DIA_1  TJ-2-DIA_2  \\\n",
       "ProteinAccession                                                               \n",
       "A5A613              4.853120    4.865022    4.841989    4.833110    4.825059   \n",
       "A5A614              4.603872    4.804208    4.595834    4.592614    4.584191   \n",
       "P00350              6.691846    6.690687    6.691578    6.648896    6.672619   \n",
       "P00363              4.574696    4.555029    4.569228    4.567630    4.491281   \n",
       "P00370              5.891564    5.867127    5.891883    6.056016    6.055144   \n",
       "P00393              5.279710    5.262819    5.274922    5.361854    5.373349   \n",
       "P00448              5.967560    5.982492    5.954370    6.021247    6.037274   \n",
       "P00452              5.466313    5.484284    5.448338    5.412070    5.425361   \n",
       "P00490              5.135722    5.123495    5.112375    5.034995    5.055581   \n",
       "P00509              6.352100    6.323549    6.329994    6.307616    6.331544   \n",
       "\n",
       "Samplename        TJ-2-DIA_3  \n",
       "ProteinAccession              \n",
       "A5A613              4.825077  \n",
       "A5A614              4.553938  \n",
       "P00350              6.665172  \n",
       "P00363              4.538206  \n",
       "P00370              6.048590  \n",
       "P00393              5.387637  \n",
       "P00448              6.069453  \n",
       "P00452              5.430646  \n",
       "P00490              5.052507  \n",
       "P00509              6.314475  "
      ]
     },
     "execution_count": 31,
     "metadata": {},
     "output_type": "execute_result"
    }
   ],
   "source": [
    "# use applymap instead of apply for element-wise function\n",
    "df_log = df_pivot.dropna(how='any').applymap(lambda x: math.log(x,10))\n",
    "\n",
    "\n",
    "\n",
    "df_log.iloc[:10,:]"
   ]
  },
  {
   "cell_type": "code",
   "execution_count": 30,
   "metadata": {},
   "outputs": [
    {
     "data": {
      "text/plain": [
       "<matplotlib.axes._subplots.AxesSubplot at 0x11d8ccbe0>"
      ]
     },
     "execution_count": 30,
     "metadata": {},
     "output_type": "execute_result"
    },
    {
     "data": {
      "image/png": "[encoded data removed]",
      "text/plain": [
       "<Figure size 432x288 with 1 Axes>"
      ]
     },
     "metadata": {
      "needs_background": "light"
     },
     "output_type": "display_data"
    }
   ],
   "source": [
    "df_log = df_log.fillna(1).applymap(lambda x: math.log(x,10))\n",
    "sns.violinplot(data=df_log)"
   ]
  },
  {
   "cell_type": "code",
   "execution_count": 27,
   "metadata": {},
   "outputs": [
    {
     "data": {
      "text/plain": [
       "<matplotlib.axes._subplots.AxesSubplot at 0x108961cf8>"
      ]
     },
     "execution_count": 27,
     "metadata": {},
     "output_type": "execute_result"
    },
    {
     "data": {
      "image/png": "[encoded data removed]",
      "text/plain": [
       "<Figure size 432x288 with 1 Axes>"
      ]
     },
     "metadata": {
      "needs_background": "light"
     },
     "output_type": "display_data"
    }
   ],
   "source": [
    "sns.boxplot(data=df_log)"
   ]
  },
  {
   "cell_type": "code",
   "execution_count": 25,
   "metadata": {},
   "outputs": [
    {
     "name": "stdout",
     "output_type": "stream",
     "text": [
      "TJ-1-DIA_1: 1910\n",
      "TJ-1-DIA_2: 1906\n",
      "TJ-1-DIA_3: 1916\n",
      "TJ-2-DIA_1: 1892\n",
      "TJ-2-DIA_2: 1893\n",
      "TJ-2-DIA_3: 1895\n"
     ]
    },
    {
     "data": {
      "image/png": "[encoded data removed]",
      "text/plain": [
       "<Figure size 432x288 with 1 Axes>"
      ]
     },
     "metadata": {},
     "output_type": "display_data"
    },
    {
     "data": {
      "image/png": "[encoded data removed]",
      "text/plain": [
       "<Figure size 432x288 with 1 Axes>"
      ]
     },
     "metadata": {},
     "output_type": "display_data"
    }
   ],
   "source": [
    "# venn plot using matplotlib\n",
    "\n",
    "df_venn = df_pivot.fillna(0)\n",
    "\n",
    "set_columns = {} \n",
    "\n",
    "for col in df_venn:\n",
    "    # print(col)\n",
    "    set_columns[col] = set()\n",
    "    # print(df_venn[col])\n",
    "    for i in range(len(df_venn[col])):\n",
    "        if df_venn[col][i] != 0:  # regard 0 as missing value, do not add them\n",
    "            # print(df_venn[col])\n",
    "            # print(type(df_venn[col]))\n",
    "            # print(df_venn.index[i])\n",
    "            # break\n",
    "            set_columns[col].add(df_venn.index[i])\n",
    "            \n",
    "for key in set_columns:\n",
    "    print(\"{}: {}\".format(key, len(set_columns[key])))\n",
    "# print(set_columns)\n",
    "\n",
    "set1 = set_columns['TJ-1-DIA_1']\n",
    "set2 = set_columns['TJ-1-DIA_2']\n",
    "set3 = set_columns['TJ-1-DIA_3']\n",
    "\n",
    "from matplotlib_venn import venn3\n",
    " \n",
    "venn3([set1, set2, set3], ('Set1', 'Set2', 'Set3'))\n",
    "plt.show()\n",
    "\n",
    "set1 = set_columns['TJ-2-DIA_1']\n",
    "set2 = set_columns['TJ-2-DIA_2']\n",
    "set3 = set_columns['TJ-2-DIA_3']\n",
    "\n",
    " \n",
    "venn3([set1, set2, set3], ('Set1', 'Set2', 'Set3'))\n",
    "plt.show()"
   ]
  },
  {
   "cell_type": "code",
   "execution_count": null,
   "metadata": {},
   "outputs": [],
   "source": []
  }
 ],
 "metadata": {
  "kernelspec": {
   "display_name": "Python 3",
   "language": "python",
   "name": "python3"
  },
  "language_info": {
   "codemirror_mode": {
    "name": "ipython",
    "version": 3
   },
   "file_extension": ".py",
   "mimetype": "text/x-python",
   "name": "python",
   "nbconvert_exporter": "python",
   "pygments_lexer": "ipython3",
   "version": "3.7.3"
  }
 },
 "nbformat": 4,
 "nbformat_minor": 1
}
